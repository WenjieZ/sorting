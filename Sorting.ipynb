{
 "cells": [
  {
   "cell_type": "markdown",
   "metadata": {},
   "source": [
    "## Insertion Sort"
   ]
  },
  {
   "cell_type": "markdown",
   "metadata": {},
   "source": [
    "$\\Omega(n)$, $\\theta(n^2)$, $O(n^2)$, $O(1)$, stable, adaptive"
   ]
  },
  {
   "cell_type": "code",
   "execution_count": 1,
   "metadata": {},
   "outputs": [
    {
     "name": "stdout",
     "output_type": "stream",
     "text": [
      "[9, 8, 7, 6, 5, 4, 3, 2, 1]\n",
      "[1, 2, 3, 4, 5, 6, 7, 8, 9]\n"
     ]
    }
   ],
   "source": [
    "a = [9, 8, 7, 6, 5, 4, 3, 2, 1]\n",
    "print(a)\n",
    "\n",
    "for i in range(1, len(a)):\n",
    "    temp = a[i]\n",
    "    j = i - 1\n",
    "    while j >= 0 and a[j] > temp:\n",
    "        a[j+1] = a[j]\n",
    "        j -= 1\n",
    "    a[j+1] = temp\n",
    "\n",
    "print(a)"
   ]
  },
  {
   "cell_type": "markdown",
   "metadata": {},
   "source": [
    "## Selection Sort"
   ]
  },
  {
   "cell_type": "markdown",
   "metadata": {},
   "source": [
    "$\\Omega(n^2)$, $\\theta(n^2)$, $O(n^2)$, $O(1)$, unstable, inadaptive"
   ]
  },
  {
   "cell_type": "code",
   "execution_count": 2,
   "metadata": {},
   "outputs": [
    {
     "name": "stdout",
     "output_type": "stream",
     "text": [
      "[9, 8, 7, 6, 5, 4, 3, 2, 1]\n",
      "[1, 2, 3, 4, 5, 6, 7, 8, 9]\n"
     ]
    }
   ],
   "source": [
    "a = [9, 8, 7, 6, 5, 4, 3, 2, 1]\n",
    "print(a)\n",
    "\n",
    "for i in range(len(a)-1):\n",
    "    p = i\n",
    "    for j in range(i+1, len(a)):\n",
    "        if a[j] < a[p]:\n",
    "            p = j\n",
    "    if p != i:\n",
    "        a[i], a[p] = a[p], a[i]\n",
    "        \n",
    "print(a)"
   ]
  },
  {
   "cell_type": "markdown",
   "metadata": {},
   "source": [
    "## Merge Sort"
   ]
  },
  {
   "cell_type": "markdown",
   "metadata": {},
   "source": [
    "$\\Omega(n\\log n)$, $\\theta(n\\log n)$, $O(n\\log n)$, $O(n)$, stable, inadaptive"
   ]
  },
  {
   "cell_type": "code",
   "execution_count": 3,
   "metadata": {},
   "outputs": [
    {
     "name": "stdout",
     "output_type": "stream",
     "text": [
      "[9, 8, 7, 6, 5, 4, 3, 2, 1]\n",
      "[1, 2, 3, 4, 5, 6, 7, 8, 9]\n"
     ]
    }
   ],
   "source": [
    "a = [9, 8, 7, 6, 5, 4, 3, 2, 1]\n",
    "print(a)\n",
    "\n",
    "b = a.copy()\n",
    "length = 1\n",
    "while length < len(a):\n",
    "    for i in range(0, len(a), 2*length):\n",
    "        j = i\n",
    "        p, q = i, i+length\n",
    "        while p < min(len(a), i+length) and q < min(len(a), i+2*length):\n",
    "            if a[p] <= a[q]:\n",
    "                b[j] = a[p]\n",
    "                p += 1\n",
    "            else:\n",
    "                b[j] = a[q]\n",
    "                q += 1\n",
    "            j += 1\n",
    "        if p >= min(len(a), i+length):\n",
    "            b[j:min(len(a), i+2*length)] = a[j:min(len(a), i+2*length)]\n",
    "        else:\n",
    "            b[j:j+min(len(a), i+length)-p] = a[p:min(len(a), i+length)]\n",
    "    a = b.copy()\n",
    "    length *= 2    \n",
    "    \n",
    "print(a)"
   ]
  },
  {
   "cell_type": "code",
   "execution_count": 4,
   "metadata": {},
   "outputs": [
    {
     "name": "stdout",
     "output_type": "stream",
     "text": [
      "[9, 8, 7, 6, 5, 4, 3, 2, 1]\n",
      "[1, 2, 3, 4, 5, 6, 7, 8, 9]\n"
     ]
    }
   ],
   "source": [
    "def merge(a, b):\n",
    "    c = []\n",
    "    while a and b:\n",
    "        if a[0] <= b[0]:\n",
    "            c.append(a.pop(0))\n",
    "        else:\n",
    "            c.append(b.pop(0))\n",
    "    if a:\n",
    "        c.extend(a)\n",
    "    else:\n",
    "        c.extend(b)\n",
    "    return c\n",
    "\n",
    "a = [9, 8, 7, 6, 5, 4, 3, 2, 1]\n",
    "print(a)\n",
    "\n",
    "length = 1\n",
    "while length < len(a):\n",
    "    for i in range(0, len(a), 2*length):\n",
    "        a[i:min(len(a), i+2*length)] = merge(a[i:min(len(a), i+length)], a[i+length:min(len(a), i+2*length)])\n",
    "    length *= 2    \n",
    "print(a)"
   ]
  },
  {
   "cell_type": "markdown",
   "metadata": {},
   "source": [
    "## Heap Sort"
   ]
  },
  {
   "cell_type": "markdown",
   "metadata": {},
   "source": [
    "$\\Omega(n\\log n)$, $\\theta(n\\log n)$, $O(n\\log n)$, $O(1)$, unstable, inadaptive"
   ]
  },
  {
   "cell_type": "code",
   "execution_count": 5,
   "metadata": {},
   "outputs": [],
   "source": [
    "def heapify(a, floyd=False, bottom_up=False):\n",
    "    if not floyd:\n",
    "        for i in range(1, len(a)):\n",
    "            siftup(a, i)\n",
    "    else:\n",
    "        for i in range(len(a)//2 - 1, -1, -1):\n",
    "            siftdown(a, i, len(a), bottom_up)\n",
    "    return a    \n",
    "    \n",
    "def siftup(a, i):\n",
    "    while i > 0 and a[i] > a[(i-1)//2]:\n",
    "        a[i], a[(i-1)//2] = a[(i-1)//2], a[i]\n",
    "        i = (i-1) // 2\n",
    "    return a\n",
    "        \n",
    "def siftdown(a, i, n, bottom_up=False):\n",
    "    if not bottom_up:\n",
    "        while (2*i+1 < n and a[i] < a[2*i+1]) or (2*i+2 < n and a[i] < a[2*i+2]):\n",
    "            if 2*i+2 < n and a[2*i+1] < a[2*i+2]:\n",
    "                a[i], a[2*i+2] = a[2*i+2], a[i]\n",
    "                i = 2*i + 2\n",
    "            else:\n",
    "                a[i], a[2*i+1] = a[2*i+1], a[i]\n",
    "                i = 2*i + 1\n",
    "    else:\n",
    "        j = i\n",
    "        while 2*j+1 < n:\n",
    "            if 2*j+2 < n and a[2*j+1] < a[2*j+2]:\n",
    "                j = 2*j + 2\n",
    "            else: \n",
    "                j = 2*j + 1\n",
    "        \n",
    "        while a[i] > a[j]:\n",
    "            j = (j-1) // 2\n",
    "        a[i], a[j] = a[j], a[i]\n",
    "        while j > i:\n",
    "            a[i], a[(j-1)//2] = a[(j-1)//2], a[i]\n",
    "            j = (j-1) // 2\n",
    "        \n",
    "    return a\n",
    "                \n",
    "def heapsort(a, floyd=False, bottom_up=False):\n",
    "    heapify(a, floyd, bottom_up)\n",
    "    for i in range(len(a)-1, 0, -1):\n",
    "        a[i], a[0] = a[0], a[i]\n",
    "        siftdown(a, 0, i, bottom_up)\n",
    "    return a"
   ]
  },
  {
   "cell_type": "code",
   "execution_count": 6,
   "metadata": {},
   "outputs": [
    {
     "data": {
      "text/plain": [
       "[1, 2, 3, 4, 5, 6, 7, 8, 9]"
      ]
     },
     "execution_count": 6,
     "metadata": {},
     "output_type": "execute_result"
    }
   ],
   "source": [
    "heapsort([9, 8, 7, 6, 5, 4, 3, 2, 1], floyd=False, bottom_up=False)\n"
   ]
  },
  {
   "cell_type": "markdown",
   "metadata": {},
   "source": [
    "## Quick Sort"
   ]
  },
  {
   "cell_type": "markdown",
   "metadata": {},
   "source": [
    "$\\Omega(n\\log n)$, $\\theta(n\\log n)$, $O(n^2)$, $O(\\log n)$, unstable, inadaptive"
   ]
  },
  {
   "cell_type": "code",
   "execution_count": 7,
   "metadata": {},
   "outputs": [],
   "source": [
    "def quicksort(a, begin, end):\n",
    "    if begin >= end:\n",
    "        return a\n",
    "    \n",
    "    i, j, p = begin, end, begin\n",
    "    while i < j:\n",
    "        if p == i:\n",
    "            while a[i] < a[j]:\n",
    "                j -= 1\n",
    "            a[i], a[j] = a[j], a[i]\n",
    "            p, i = j, i+1\n",
    "        else:\n",
    "            while a[i] < a[j]:\n",
    "                i += 1\n",
    "            a[i], a[j] = a[j], a[i]\n",
    "            p, j = i, j-1\n",
    "    \n",
    "    quicksort(a, begin, p-1)\n",
    "    quicksort(a, p+1, end)\n",
    "    return a"
   ]
  },
  {
   "cell_type": "code",
   "execution_count": 8,
   "metadata": {},
   "outputs": [
    {
     "data": {
      "text/plain": [
       "[1, 2, 3, 4, 5, 6, 7, 8, 9]"
      ]
     },
     "execution_count": 8,
     "metadata": {},
     "output_type": "execute_result"
    }
   ],
   "source": [
    "quicksort([9, 8, 7, 6, 5, 4, 3, 2, 1], 0, 8)"
   ]
  },
  {
   "cell_type": "markdown",
   "metadata": {},
   "source": [
    "## Shell Sort"
   ]
  },
  {
   "cell_type": "markdown",
   "metadata": {},
   "source": [
    "$\\Omega(n\\log n)$, $\\theta(n\\log^2 n)$, $O(n\\log^2 n)$, $O(1)$, unstable, adaptive"
   ]
  },
  {
   "cell_type": "code",
   "execution_count": 9,
   "metadata": {},
   "outputs": [
    {
     "name": "stdout",
     "output_type": "stream",
     "text": [
      "[9, 8, 7, 6, 5, 4, 3, 2, 1]\n",
      "[4, 3, 2, 1, 5, 9, 8, 7, 6]\n",
      "[1, 3, 2, 4, 5, 6, 8, 7, 9]\n",
      "[1, 2, 3, 4, 5, 6, 7, 8, 9]\n"
     ]
    }
   ],
   "source": [
    "a = [9, 8, 7, 6, 5, 4, 3, 2, 1]\n",
    "print(a)\n",
    "gaps = [5, 3, 1]\n",
    "for g in gaps:\n",
    "    for k in range(g):\n",
    "        for i in range(k+g, len(a), g):\n",
    "            temp = a[i]\n",
    "            j = i - g\n",
    "            while j >=0 and a[j] > temp:\n",
    "                a[j+g] = a[j]\n",
    "                j -= g\n",
    "            a[j+g] = temp\n",
    "    print(a)"
   ]
  },
  {
   "cell_type": "code",
   "execution_count": null,
   "metadata": {},
   "outputs": [],
   "source": []
  }
 ],
 "metadata": {
  "kernelspec": {
   "display_name": "Python 3",
   "language": "python",
   "name": "python3"
  },
  "language_info": {
   "codemirror_mode": {
    "name": "ipython",
    "version": 3
   },
   "file_extension": ".py",
   "mimetype": "text/x-python",
   "name": "python",
   "nbconvert_exporter": "python",
   "pygments_lexer": "ipython3",
   "version": "3.8.3"
  }
 },
 "nbformat": 4,
 "nbformat_minor": 4
}
